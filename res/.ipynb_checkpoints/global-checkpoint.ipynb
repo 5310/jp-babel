{
 "metadata": {
  "name": ""
 },
 "nbformat": 3,
 "nbformat_minor": 0,
 "worksheets": [
  {
   "cells": [
    {
     "cell_type": "code",
     "collapsed": false,
     "input": [
      "var fs = require(\"fs\");\n",
      "JSON.parse(fs.readFileSync(\"../package.json\"));"
     ],
     "language": "python",
     "metadata": {},
     "outputs": [
      {
       "html": [
        "<pre>{ name: &#39;ijavascript&#39;,\n",
        "  version: &#39;4.1.0&#39;,\n",
        "  description: &#39;IJavascript is a javascript kernel for IPython\\&#39;s graphical notebook&#39;,\n",
        "  keywords: [ &#39;javascript&#39;, &#39;kernel&#39;, &#39;ipython&#39;, &#39;jupyter&#39; ],\n",
        "  author: \n",
        "   { author: &#39;Nicolas Riesco&#39;,\n",
        "     email: &#39;enquiries@nicolasriesco.net&#39;,\n",
        "     url: &#39;http://www.nicolasriesco.net/&#39; },\n",
        "  repository: \n",
        "   { type: &#39;git&#39;,\n",
        "     url: &#39;https://github.com/n-riesco/ijavascript.git&#39; },\n",
        "  private: true,\n",
        "  bin: { ijs: &#39;bin/ijavascript.js&#39; },\n",
        "  license: &#39;BSD-2-Clause&#39;,\n",
        "  dependencies: { &#39;node-uuid&#39;: &#39;^1.4.2&#39;, zmq: &#39;^2.10.0&#39; } }</pre>"
       ],
       "metadata": {},
       "output_type": "pyout",
       "prompt_number": 1,
       "text": [
        "{ name: 'ijavascript',\n",
        "  version: '4.1.0',\n",
        "  description: 'IJavascript is a javascript kernel for IPython\\'s graphical notebook',\n",
        "  keywords: [ 'javascript', 'kernel', 'ipython', 'jupyter' ],\n",
        "  author: \n",
        "   { author: 'Nicolas Riesco',\n",
        "     email: 'enquiries@nicolasriesco.net',\n",
        "     url: 'http://www.nicolasriesco.net/' },\n",
        "  repository: \n",
        "   { type: 'git',\n",
        "     url: 'https://github.com/n-riesco/ijavascript.git' },\n",
        "  private: true,\n",
        "  bin: { ijs: 'bin/ijavascript.js' },\n",
        "  license: 'BSD-2-Clause',\n",
        "  dependencies: { 'node-uuid': '^1.4.2', zmq: '^2.10.0' } }"
       ]
      }
     ],
     "prompt_number": 1
    },
    {
     "cell_type": "code",
     "collapsed": false,
     "input": [],
     "language": "python",
     "metadata": {},
     "outputs": []
    }
   ],
   "metadata": {}
  }
 ]
}