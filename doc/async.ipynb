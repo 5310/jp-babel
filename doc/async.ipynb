{
 "metadata": {
  "kernelspec": {
   "display_name": "Javascript (Node.js)",
   "language": "javascript",
   "name": "javascript"
  },
  "language_info": {
   "file_extension": "js",
   "mimetype": "application/javascript",
   "name": "javascript",
   "version": "0.10.25"
  },
  "name": ""
 },
 "nbformat": 3,
 "nbformat_minor": 0,
 "worksheets": [
  {
   "cells": [
    {
     "cell_type": "markdown",
     "metadata": {},
     "source": [
      "# Asynchronous output\n",
      "\n",
      "Javascript and Node.JS make heavy use of asynchronous execution. IJavascript lets you exercise these asynchronous capabilities, both:\n",
      "\n",
      "- by updating `stdout` and `stderr` asynchronously, or\n",
      "- by updating the IJavascript output asynchronously."
     ]
    },
    {
     "cell_type": "markdown",
     "metadata": {},
     "source": [
      "## Updating `stdout` and `stderr` asynchronously\n",
      "\n",
      "Both streams `stdout` and `stderr` can be written asynchronously. Any text written to these streams will be forwarded back to the latest request from the frontend:"
     ]
    },
    {
     "cell_type": "code",
     "collapsed": false,
     "input": [
      "function countTo(number, milliseconds) {\n",
      "    var counter = function() {\n",
      "        console.log(counter._n++);\n",
      "        \n",
      "        if (counter._n > number) {\n",
      "            clearInterval(counter._intervalObject);\n",
      "            console.warn(\"Done!\");\n",
      "        }\n",
      "    };\n",
      "    counter._n = 1;\n",
      "    counter._intervalObject = setInterval(counter, milliseconds);\n",
      "}\n",
      "\n",
      "countTo(5, 1000);"
     ],
     "language": "python",
     "metadata": {},
     "outputs": [
      {
       "html": [
        "<pre>undefined</pre>"
       ],
       "metadata": {},
       "output_type": "pyout",
       "prompt_number": 1,
       "text": [
        "undefined"
       ]
      },
      {
       "output_type": "stream",
       "stream": "stdout",
       "text": [
        "1\n"
       ]
      },
      {
       "output_type": "stream",
       "stream": "stdout",
       "text": [
        "2\n"
       ]
      },
      {
       "output_type": "stream",
       "stream": "stdout",
       "text": [
        "3\n"
       ]
      },
      {
       "output_type": "stream",
       "stream": "stdout",
       "text": [
        "4\n"
       ]
      },
      {
       "output_type": "stream",
       "stream": "stdout",
       "text": [
        "5\n"
       ]
      },
      {
       "output_type": "stream",
       "stream": "stderr",
       "text": [
        "Done!\n"
       ]
      }
     ],
     "prompt_number": 1
    },
    {
     "cell_type": "markdown",
     "metadata": {},
     "source": [
      "## Updating the IJavascript output asynchronously\n",
      "\n",
      "IJavascript offers two global definitions to help produce an output asynchronously: `$$async$$` and `$$done$$()`.\n",
      "\n",
      "When `$$async$$` is set to `true`, the IJavascript kernel is instructed not to produce an output. Instead, an output can be produced by calling `$$done$$()`."
     ]
    },
    {
     "cell_type": "code",
     "collapsed": false,
     "input": [
      "$$async$$ = true;\n",
      "\n",
      "console.log(\"Hello!\");\n",
      "\n",
      "setTimeout(\n",
      "    function() {\n",
      "        $$done$$(\"And good bye!\");\n",
      "    },\n",
      "    1000\n",
      ");"
     ],
     "language": "python",
     "metadata": {},
     "outputs": [
      {
       "output_type": "stream",
       "stream": "stdout",
       "text": [
        "Hello!\n"
       ]
      },
      {
       "html": [
        "<pre>&#39;And good bye!&#39;</pre>"
       ],
       "metadata": {},
       "output_type": "pyout",
       "prompt_number": 2,
       "text": [
        "'And good bye!'"
       ]
      }
     ],
     "prompt_number": 2
    },
    {
     "cell_type": "markdown",
     "metadata": {},
     "source": [
      "It is also possible to produce a graphical output asynchronously, the same way it is done synchronously, with the difference that `$$done$$()` has to be called to instruct the IJavascript kernel that the output is ready:"
     ]
    },
    {
     "cell_type": "code",
     "collapsed": false,
     "input": [
      "$$async$$ = true;\n",
      "\n",
      "console.log(\"Hello!\");\n",
      "\n",
      "setTimeout(\n",
      "    function() {\n",
      "        $$svg$$ = \"<svg><circle cx='30px' cy='30px' r='20px'/></svg>\";\n",
      "        $$done$$();\n",
      "    },\n",
      "    1000\n",
      ");"
     ],
     "language": "python",
     "metadata": {},
     "outputs": [
      {
       "output_type": "stream",
       "stream": "stdout",
       "text": [
        "Hello!\n"
       ]
      },
      {
       "metadata": {},
       "output_type": "pyout",
       "prompt_number": 3,
       "svg": [
        "<svg><circle cx='30px' cy='30px' r='20px'/></svg>"
       ]
      }
     ],
     "prompt_number": 3
    }
   ],
   "metadata": {}
  }
 ]
}
