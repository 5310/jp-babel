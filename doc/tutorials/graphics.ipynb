{
 "metadata": {
  "kernelspec": {
   "display_name": "Javascript (Node.js)",
   "language": "javascript",
   "name": "javascript"
  },
  "language_info": {
   "file_extension": "js",
   "mimetype": "application/javascript",
   "name": "javascript",
   "version": "0.10.25"
  },
  "name": ""
 },
 "nbformat": 3,
 "nbformat_minor": 0,
 "worksheets": [
  {
   "cells": [
    {
     "cell_type": "markdown",
     "metadata": {},
     "source": [
      "# Graphical output\n",
      "\n",
      "IJavascript provides a number of global variables to produce a graphical output."
     ]
    },
    {
     "cell_type": "markdown",
     "metadata": {},
     "source": [
      "## Text formats\n",
      "\n",
      "IJavascript can output `HTML` and `SVG`."
     ]
    },
    {
     "cell_type": "markdown",
     "metadata": {},
     "source": [
      "### `$$html$$`\n",
      "\n",
      "To output `HTML` simply assign a string with the HTML to the global variable\n",
      "`$$html$$`. See the example below:"
     ]
    },
    {
     "cell_type": "code",
     "collapsed": false,
     "input": [
      "$$html$$ = \"<div style='background-color:olive;width:50px;height:50px'></div>\";"
     ],
     "language": "python",
     "metadata": {},
     "outputs": [
      {
       "html": [
        "<div style='background-color:olive;width:50px;height:50px'></div>"
       ],
       "metadata": {},
       "output_type": "pyout",
       "prompt_number": 1
      }
     ],
     "prompt_number": 1
    },
    {
     "cell_type": "markdown",
     "metadata": {},
     "source": [
      "### `$$svg$$`\n",
      "\n",
      "Similarly, it is possible to output `SVG` by assigning a string to the global\n",
      "variable `$$svg$$`:"
     ]
    },
    {
     "cell_type": "code",
     "collapsed": false,
     "input": [
      "$$svg$$ = \"<svg><rect width=80 height=80 style='fill: orange;'/></svg>\";"
     ],
     "language": "python",
     "metadata": {},
     "outputs": [
      {
       "metadata": {},
       "output_type": "pyout",
       "prompt_number": 2,
       "svg": [
        "<svg><rect width=80 height=80 style='fill: orange;'/></svg>"
       ]
      }
     ],
     "prompt_number": 2
    },
    {
     "cell_type": "markdown",
     "metadata": {},
     "source": [
      "## Binary formats\n",
      "\n",
      "IJavascript can also output pictures in `PNG` and `JPEG` formats. However, this\n",
      "formats are binary and need to be encoded in `base64`. See how in the following\n",
      "examples."
     ]
    },
    {
     "cell_type": "markdown",
     "metadata": {},
     "source": [
      "### `$$png$$`\n",
      "\n",
      "In the below example, a `PNG` file is read, then encoded in `base64` and finally\n",
      "assigned to the global variable `$$png$$`:"
     ]
    },
    {
     "cell_type": "code",
     "collapsed": false,
     "input": [
      "$$png$$ = require(\"fs\").readFileSync(\"image.png\").toString(\"base64\");"
     ],
     "language": "python",
     "metadata": {},
     "outputs": [
      {
       "metadata": {},
       "output_type": "pyout",
       "png": "[encoded data removed]",
       "prompt_number": 3
      }
     ],
     "prompt_number": 3
    },
    {
     "cell_type": "markdown",
     "metadata": {},
     "source": [
      "### `$$jpeg$$`\n",
      "\n",
      "Similarly with `JPEG` files and the global variable `$$jpeg$$`:"
     ]
    },
    {
     "cell_type": "code",
     "collapsed": false,
     "input": [
      "$$png$$ = require(\"fs\").readFileSync(\"image.jpg\").toString(\"base64\");"
     ],
     "language": "python",
     "metadata": {},
     "outputs": [
      {
       "metadata": {},
       "output_type": "pyout",
       "png": "[encoded data removed]",
       "prompt_number": 4
      }
     ],
     "prompt_number": 4
    },
    {
     "cell_type": "markdown",
     "metadata": {},
     "source": [
      "## MIME output\n",
      "\n",
      "IJavascript also provides the global variable `$$mime$$` to produce an output in\n",
      "any other format understood by the IPython frontend. Following is an example\n",
      "where instead of assigning an HTML string to the global variable `$$html$$`, the\n",
      "global variable `$$mime$$` is assigned an object with the HTML string assigned\n",
      "to the property `\"text/html\"`:"
     ]
    },
    {
     "cell_type": "code",
     "collapsed": false,
     "input": [
      "$$mime$$ = {\"text/html\": \"<div style='background-color:olive;width:50px;height:50px'></div>\"};"
     ],
     "language": "python",
     "metadata": {},
     "outputs": [
      {
       "html": [
        "<div style='background-color:olive;width:50px;height:50px'></div>"
       ],
       "metadata": {},
       "output_type": "pyout",
       "prompt_number": 5
      }
     ],
     "prompt_number": 5
    },
    {
     "cell_type": "code",
     "collapsed": false,
     "input": [],
     "language": "python",
     "metadata": {},
     "outputs": []
    }
   ],
   "metadata": {}
  }
 ]
}
