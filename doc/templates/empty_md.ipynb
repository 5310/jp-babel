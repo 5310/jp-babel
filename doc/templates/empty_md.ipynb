{
 "metadata": {
  "kernelspec": {
   "display_name": "Javascript (Node.js)",
   "language": "javascript",
   "name": "javascript"
  },
  "language_info": {
   "name": "javascript",
   "version": "0.10.25"
  },
  "name": ""
 },
 "nbformat": 3,
 "nbformat_minor": 0,
 "worksheets": [
  {
   "cells": [
    {
     "cell_type": "markdown",
     "metadata": {},
     "source": [
      "MARKDOWN_GOES_HERE"
     ]
    }
   ],
   "metadata": {}
  }
 ]
}
